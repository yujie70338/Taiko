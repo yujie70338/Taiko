{
 "cells": [
  {
   "cell_type": "code",
   "execution_count": null,
   "id": "7761b5f0",
   "metadata": {},
   "outputs": [],
   "source": [
    "'''\n",
    "安裝套件\n",
    "'''\n",
    "# !pip install pyautogui opencv-python opencv-contrib-python keyboard"
   ]
  },
  {
   "cell_type": "code",
   "execution_count": null,
   "id": "3a737423",
   "metadata": {},
   "outputs": [],
   "source": [
    "'''\n",
    "匯入工具\n",
    "'''\n",
    "import pyautogui, cv2\n",
    "from time import sleep, time\n",
    "import keyboard\n",
    "from IPython.display import clear_output"
   ]
  },
  {
   "cell_type": "code",
   "execution_count": null,
   "id": "1d3f1aae",
   "metadata": {
    "scrolled": true
   },
   "outputs": [],
   "source": [
    "'''\n",
    "請在 Terminal 當中執行\n",
    "取得滑鼠座標和游標上的色碼，協助我們定位\n",
    "每台電腦在遊戲內，顯示的顏色都不太一樣，要重新調整主程式偵測的RGB。\n",
    "補充: 必須在 Terminal 當中執行，請執行 18.py \n",
    "'''\n",
    "# pyautogui.displayMousePosition()"
   ]
  },
  {
   "cell_type": "code",
   "execution_count": null,
   "id": "07fd1a7c",
   "metadata": {},
   "outputs": [],
   "source": [
    "'''\n",
    "打擊遊戲\n",
    "\n",
    "太鼓達人網址: https://taiko.bui.pm/\n",
    "\n",
    "請搭配 18.py，取得參考用的座標、色碼\n",
    "\n",
    "    Red, Green, Blue\n",
    "橘色: (243, 71, 40)\n",
    "藍色: (101, 189, 187)\n",
    "連打: (243, 181, 0)\n",
    "\n",
    "打擊區座標\n",
    "(x=519, y=455)\n",
    "'''\n",
    "\n",
    "pyautogui.PAUSE = 0.1 # 避免程式執行太快\n",
    "\n",
    "listPoint01 = [536, 436] # 螢幕上的打擊點\n",
    "\n",
    "def click():\n",
    "    coord01 = pyautogui.pixel( listPoint01[0], listPoint01[1])\n",
    "    if coord01[0] == 245 and coord01[1] == 73:\n",
    "        pyautogui.press('j') # 紅色\n",
    "\n",
    "    elif coord01[0] == 97 and coord01[1] == 189:\n",
    "        pyautogui.press('k') # 藍色\n",
    "\n",
    "    elif coord01[0] == 241 and coord01[1] == 185:\n",
    "        pyautogui.press('d') # 左邊外側藍色 # 黃色連擊\n",
    "        pyautogui.press('f') # 左邊內側橘色\n",
    "        pyautogui.press('j') # 右邊內側橘色\n",
    "        pyautogui.press('k') # 右邊外側藍色\n",
    "\n",
    "\n",
    "if __name__ == \"__main__\":\n",
    "    while True:\n",
    "        if keyboard.is_pressed('ctrl'):  \n",
    "            click() # 按下ctrl就會開始自己玩遊戲\n",
    "            "
   ]
  },
  {
   "cell_type": "code",
   "execution_count": null,
   "id": "ba3c28ac",
   "metadata": {},
   "outputs": [],
   "source": []
  }
 ],
 "metadata": {
  "interpreter": {
   "hash": "ac59ebe37160ed0dfa835113d9b8498d9f09ceb179beaac4002f036b9467c963"
  },
  "kernelspec": {
   "display_name": "Python 3 (ipykernel)",
   "language": "python",
   "name": "python3"
  },
  "language_info": {
   "codemirror_mode": {
    "name": "ipython",
    "version": 3
   },
   "file_extension": ".py",
   "mimetype": "text/x-python",
   "name": "python",
   "nbconvert_exporter": "python",
   "pygments_lexer": "ipython3",
   "version": "3.9.7"
  }
 },
 "nbformat": 4,
 "nbformat_minor": 5
}
